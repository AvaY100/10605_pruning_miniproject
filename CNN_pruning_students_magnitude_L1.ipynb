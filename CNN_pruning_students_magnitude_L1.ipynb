{
  "cells": [
    {
      "cell_type": "markdown",
      "metadata": {
        "id": "y-eC-sb34T9w"
      },
      "source": [
        "## Accelerate Inference: Neural Network Pruning"
      ]
    },
    {
      "cell_type": "code",
      "execution_count": 1,
      "metadata": {
        "colab": {
          "base_uri": "https://localhost:8080/"
        },
        "id": "L47XBZWm4T9x",
        "outputId": "6655b1bc-eab3-4931-ebc4-43a4fbb25e21"
      },
      "outputs": [
        {
          "name": "stderr",
          "output_type": "stream",
          "text": [
            "2024-04-15 07:30:30.425407: I tensorflow/core/util/port.cc:113] oneDNN custom operations are on. You may see slightly different numerical results due to floating-point round-off errors from different computation orders. To turn them off, set the environment variable `TF_ENABLE_ONEDNN_OPTS=0`.\n",
            "2024-04-15 07:30:30.475332: E external/local_xla/xla/stream_executor/cuda/cuda_dnn.cc:9261] Unable to register cuDNN factory: Attempting to register factory for plugin cuDNN when one has already been registered\n",
            "2024-04-15 07:30:30.475365: E external/local_xla/xla/stream_executor/cuda/cuda_fft.cc:607] Unable to register cuFFT factory: Attempting to register factory for plugin cuFFT when one has already been registered\n",
            "2024-04-15 07:30:30.476548: E external/local_xla/xla/stream_executor/cuda/cuda_blas.cc:1515] Unable to register cuBLAS factory: Attempting to register factory for plugin cuBLAS when one has already been registered\n",
            "2024-04-15 07:30:30.484496: I tensorflow/core/platform/cpu_feature_guard.cc:182] This TensorFlow binary is optimized to use available CPU instructions in performance-critical operations.\n",
            "To enable the following instructions: SSE4.1 SSE4.2 AVX AVX2 AVX512F AVX512_VNNI FMA, in other operations, rebuild TensorFlow with the appropriate compiler flags.\n"
          ]
        },
        {
          "name": "stdout",
          "output_type": "stream",
          "text": [
            "2.15.0\n"
          ]
        }
      ],
      "source": [
        "import os\n",
        "import numpy as np\n",
        "import cv2\n",
        "import matplotlib.pyplot as plt\n",
        "import pickle\n",
        "\n",
        "import tensorflow as tf\n",
        "from tensorflow import keras\n",
        "from tensorflow.keras import datasets, layers, models, regularizers\n",
        "from tensorflow.keras.layers import *\n",
        "\n",
        "print(tf.version.VERSION)"
      ]
    },
    {
      "cell_type": "code",
      "execution_count": 2,
      "metadata": {
        "colab": {
          "base_uri": "https://localhost:8080/"
        },
        "id": "V1FQTVeAuNiU",
        "outputId": "556105c9-b2fb-42a6-f02f-cf57c1acbe7c"
      },
      "outputs": [
        {
          "name": "stdout",
          "output_type": "stream",
          "text": [
            "CNN_pruning_students_Ava.ipynb\t my_model_weights_2.h5\n",
            "CNN_pruning_students_qtan.ipynb  my_model_weights_3.h5\n",
            "README.md\t\t\t my_model_weights_glenn.h5\n",
            "ava_1_weights.h5\t\t my_model_weights_neuron_pruning.h5\n",
            "dataset\t\t\t\t original_weights.h5\n",
            "my_model_weights_1.h5\n"
          ]
        }
      ],
      "source": [
        "# untar\n",
        "!ls\n",
        "# !tar -xvzf dataset.tar.gz\n",
        "# load train\n",
        "train_images = pickle.load(open('dataset/train_images.pkl', 'rb'))\n",
        "train_labels = pickle.load(open('dataset/train_labels.pkl', 'rb'))\n",
        "# load val\n",
        "val_images = pickle.load(open('dataset/val_images.pkl', 'rb'))\n",
        "val_labels = pickle.load(open('dataset/val_labels.pkl', 'rb'))"
      ]
    },
    {
      "cell_type": "code",
      "execution_count": 3,
      "metadata": {
        "id": "KE9JuZDG4T94"
      },
      "outputs": [
        {
          "name": "stderr",
          "output_type": "stream",
          "text": [
            "2024-04-15 07:30:34.102106: I tensorflow/core/common_runtime/gpu/gpu_device.cc:1929] Created device /job:localhost/replica:0/task:0/device:GPU:0 with 20617 MB memory:  -> device: 0, name: NVIDIA L4, pci bus id: 0000:00:03.0, compute capability: 8.9\n"
          ]
        }
      ],
      "source": [
        "# Define the neural network architecture (don't change this)\n",
        "\n",
        "model = models.Sequential()\n",
        "model.add(Conv2D(32, (3, 3), padding='same', kernel_regularizer=regularizers.l2(1e-5), input_shape=(25,25,3)))\n",
        "model.add(Activation('relu'))\n",
        "model.add(Conv2D(32, (3, 3), kernel_regularizer=regularizers.l2(1e-5)))\n",
        "model.add(Activation('relu'))\n",
        "model.add(MaxPooling2D(pool_size=(2, 2)))\n",
        "model.add(Dropout(0.25))\n",
        "model.add(Conv2D(64, (3, 3), padding='same', kernel_regularizer=regularizers.l2(1e-5)))\n",
        "model.add(Activation('relu'))\n",
        "model.add(Conv2D(64, (3, 3), kernel_regularizer=regularizers.l2(1e-5)))\n",
        "model.add(Activation('relu'))\n",
        "model.add(MaxPooling2D(pool_size=(2, 2)))\n",
        "model.add(Dropout(0.25))\n",
        "model.add(Flatten())\n",
        "model.add(Dense(512))\n",
        "model.add(Activation('relu'))\n",
        "model.add(Dropout(0.5))\n",
        "model.add(Dense(5))\n",
        "model.add(Activation('softmax'))"
      ]
    },
    {
      "cell_type": "code",
      "execution_count": 4,
      "metadata": {
        "colab": {
          "base_uri": "https://localhost:8080/"
        },
        "id": "JTzcSoYl4T97",
        "outputId": "0a378266-b178-4b52-f164-960dbdb3a724"
      },
      "outputs": [
        {
          "name": "stdout",
          "output_type": "stream",
          "text": [
            "Model: \"sequential\"\n",
            "_________________________________________________________________\n",
            " Layer (type)                Output Shape              Param #   \n",
            "=================================================================\n",
            " conv2d (Conv2D)             (None, 25, 25, 32)        896       \n",
            "                                                                 \n",
            " activation (Activation)     (None, 25, 25, 32)        0         \n",
            "                                                                 \n",
            " conv2d_1 (Conv2D)           (None, 23, 23, 32)        9248      \n",
            "                                                                 \n",
            " activation_1 (Activation)   (None, 23, 23, 32)        0         \n",
            "                                                                 \n",
            " max_pooling2d (MaxPooling2  (None, 11, 11, 32)        0         \n",
            " D)                                                              \n",
            "                                                                 \n",
            " dropout (Dropout)           (None, 11, 11, 32)        0         \n",
            "                                                                 \n",
            " conv2d_2 (Conv2D)           (None, 11, 11, 64)        18496     \n",
            "                                                                 \n",
            " activation_2 (Activation)   (None, 11, 11, 64)        0         \n",
            "                                                                 \n",
            " conv2d_3 (Conv2D)           (None, 9, 9, 64)          36928     \n",
            "                                                                 \n",
            " activation_3 (Activation)   (None, 9, 9, 64)          0         \n",
            "                                                                 \n",
            " max_pooling2d_1 (MaxPoolin  (None, 4, 4, 64)          0         \n",
            " g2D)                                                            \n",
            "                                                                 \n",
            " dropout_1 (Dropout)         (None, 4, 4, 64)          0         \n",
            "                                                                 \n",
            " flatten (Flatten)           (None, 1024)              0         \n",
            "                                                                 \n",
            " dense (Dense)               (None, 512)               524800    \n",
            "                                                                 \n",
            " activation_4 (Activation)   (None, 512)               0         \n",
            "                                                                 \n",
            " dropout_2 (Dropout)         (None, 512)               0         \n",
            "                                                                 \n",
            " dense_1 (Dense)             (None, 5)                 2565      \n",
            "                                                                 \n",
            " activation_5 (Activation)   (None, 5)                 0         \n",
            "                                                                 \n",
            "=================================================================\n",
            "Total params: 592933 (2.26 MB)\n",
            "Trainable params: 592933 (2.26 MB)\n",
            "Non-trainable params: 0 (0.00 Byte)\n",
            "_________________________________________________________________\n",
            "None\n"
          ]
        }
      ],
      "source": [
        "print(model.summary())"
      ]
    },
    {
      "cell_type": "code",
      "execution_count": 5,
      "metadata": {
        "colab": {
          "base_uri": "https://localhost:8080/"
        },
        "id": "G9Nk_MAPqZPt",
        "outputId": "15c097e0-f431-44b8-d470-71f1bb7e5cbf"
      },
      "outputs": [
        {
          "name": "stdout",
          "output_type": "stream",
          "text": [
            "Epoch 1/60\n"
          ]
        },
        {
          "name": "stderr",
          "output_type": "stream",
          "text": [
            "2024-04-15 07:30:35.990572: E tensorflow/core/grappler/optimizers/meta_optimizer.cc:961] layout failed: INVALID_ARGUMENT: Size of values 0 does not match size of permutation 4 @ fanin shape insequential/dropout/dropout/SelectV2-2-TransposeNHWCToNCHW-LayoutOptimizer\n",
            "2024-04-15 07:30:37.395556: I external/local_xla/xla/stream_executor/cuda/cuda_dnn.cc:454] Loaded cuDNN version 8900\n",
            "2024-04-15 07:30:40.283980: I external/local_xla/xla/service/service.cc:168] XLA service 0x7f89f224bff0 initialized for platform CUDA (this does not guarantee that XLA will be used). Devices:\n",
            "2024-04-15 07:30:40.284018: I external/local_xla/xla/service/service.cc:176]   StreamExecutor device (0): NVIDIA L4, Compute Capability 8.9\n",
            "2024-04-15 07:30:40.290474: I tensorflow/compiler/mlir/tensorflow/utils/dump_mlir_util.cc:269] disabling MLIR crash reproducer, set env var `MLIR_CRASH_REPRODUCER_DIRECTORY` to enable.\n",
            "WARNING: All log messages before absl::InitializeLog() is called are written to STDERR\n",
            "I0000 00:00:1713166240.386286   49850 device_compiler.h:186] Compiled cluster using XLA!  This line is logged at most once for the lifetime of the process.\n"
          ]
        },
        {
          "name": "stdout",
          "output_type": "stream",
          "text": [
            "703/703 [==============================] - 11s 6ms/step - loss: 1.5133 - accuracy: 0.3073 - val_loss: 1.3711 - val_accuracy: 0.3917\n",
            "Epoch 2/60\n",
            "703/703 [==============================] - 3s 5ms/step - loss: 1.3359 - accuracy: 0.4353 - val_loss: 1.2467 - val_accuracy: 0.4689\n",
            "Epoch 3/60\n",
            "703/703 [==============================] - 3s 5ms/step - loss: 1.2669 - accuracy: 0.4658 - val_loss: 1.2181 - val_accuracy: 0.4824\n",
            "Epoch 4/60\n",
            "703/703 [==============================] - 3s 5ms/step - loss: 1.2196 - accuracy: 0.4952 - val_loss: 1.1614 - val_accuracy: 0.5244\n",
            "Epoch 5/60\n",
            "703/703 [==============================] - 3s 5ms/step - loss: 1.1854 - accuracy: 0.5173 - val_loss: 1.1349 - val_accuracy: 0.5303\n",
            "Epoch 6/60\n",
            "703/703 [==============================] - 3s 5ms/step - loss: 1.1566 - accuracy: 0.5307 - val_loss: 1.0863 - val_accuracy: 0.5616\n",
            "Epoch 7/60\n",
            "703/703 [==============================] - 3s 5ms/step - loss: 1.1236 - accuracy: 0.5467 - val_loss: 1.0786 - val_accuracy: 0.5620\n",
            "Epoch 8/60\n",
            "703/703 [==============================] - 3s 4ms/step - loss: 1.1008 - accuracy: 0.5607 - val_loss: 1.0345 - val_accuracy: 0.5810\n",
            "Epoch 9/60\n",
            "703/703 [==============================] - 3s 5ms/step - loss: 1.0697 - accuracy: 0.5753 - val_loss: 1.0648 - val_accuracy: 0.5651\n",
            "Epoch 10/60\n",
            "703/703 [==============================] - 3s 4ms/step - loss: 1.0467 - accuracy: 0.5854 - val_loss: 1.0130 - val_accuracy: 0.5945\n",
            "Epoch 11/60\n",
            "703/703 [==============================] - 3s 5ms/step - loss: 1.0317 - accuracy: 0.5897 - val_loss: 0.9735 - val_accuracy: 0.6040\n",
            "Epoch 12/60\n",
            "703/703 [==============================] - 3s 4ms/step - loss: 1.0101 - accuracy: 0.5991 - val_loss: 0.9896 - val_accuracy: 0.6063\n",
            "Epoch 13/60\n",
            "703/703 [==============================] - 3s 4ms/step - loss: 0.9961 - accuracy: 0.6100 - val_loss: 0.9950 - val_accuracy: 0.5960\n",
            "Epoch 14/60\n",
            "703/703 [==============================] - 3s 5ms/step - loss: 0.9762 - accuracy: 0.6172 - val_loss: 0.9716 - val_accuracy: 0.6174\n",
            "Epoch 15/60\n",
            "703/703 [==============================] - 3s 5ms/step - loss: 0.9653 - accuracy: 0.6240 - val_loss: 0.9509 - val_accuracy: 0.6190\n",
            "Epoch 16/60\n",
            "703/703 [==============================] - 3s 4ms/step - loss: 0.9471 - accuracy: 0.6300 - val_loss: 0.9171 - val_accuracy: 0.6281\n",
            "Epoch 17/60\n",
            "703/703 [==============================] - 3s 4ms/step - loss: 0.9368 - accuracy: 0.6353 - val_loss: 0.9517 - val_accuracy: 0.6206\n",
            "Epoch 18/60\n",
            "703/703 [==============================] - 3s 4ms/step - loss: 0.9285 - accuracy: 0.6369 - val_loss: 0.9133 - val_accuracy: 0.6329\n",
            "Epoch 19/60\n",
            "703/703 [==============================] - 3s 4ms/step - loss: 0.9144 - accuracy: 0.6433 - val_loss: 0.8928 - val_accuracy: 0.6388\n",
            "Epoch 20/60\n",
            "703/703 [==============================] - 3s 4ms/step - loss: 0.8998 - accuracy: 0.6536 - val_loss: 0.8871 - val_accuracy: 0.6467\n",
            "Epoch 21/60\n",
            "703/703 [==============================] - 3s 4ms/step - loss: 0.8890 - accuracy: 0.6542 - val_loss: 0.9260 - val_accuracy: 0.6384\n",
            "Epoch 22/60\n",
            "703/703 [==============================] - 3s 4ms/step - loss: 0.8791 - accuracy: 0.6619 - val_loss: 0.8671 - val_accuracy: 0.6622\n",
            "Epoch 23/60\n",
            "703/703 [==============================] - 3s 4ms/step - loss: 0.8617 - accuracy: 0.6683 - val_loss: 0.8592 - val_accuracy: 0.6626\n",
            "Epoch 24/60\n",
            "703/703 [==============================] - 3s 4ms/step - loss: 0.8507 - accuracy: 0.6704 - val_loss: 0.8662 - val_accuracy: 0.6606\n",
            "Epoch 25/60\n",
            "703/703 [==============================] - 3s 4ms/step - loss: 0.8429 - accuracy: 0.6767 - val_loss: 0.8588 - val_accuracy: 0.6590\n",
            "Epoch 26/60\n",
            "703/703 [==============================] - 3s 5ms/step - loss: 0.8324 - accuracy: 0.6796 - val_loss: 0.8372 - val_accuracy: 0.6749\n",
            "Epoch 27/60\n",
            "703/703 [==============================] - 3s 4ms/step - loss: 0.8256 - accuracy: 0.6836 - val_loss: 0.8285 - val_accuracy: 0.6713\n",
            "Epoch 28/60\n",
            "703/703 [==============================] - 3s 5ms/step - loss: 0.8162 - accuracy: 0.6849 - val_loss: 0.8658 - val_accuracy: 0.6582\n",
            "Epoch 29/60\n",
            "703/703 [==============================] - 3s 5ms/step - loss: 0.7990 - accuracy: 0.6945 - val_loss: 0.8377 - val_accuracy: 0.6646\n",
            "Epoch 30/60\n",
            "703/703 [==============================] - 3s 5ms/step - loss: 0.7940 - accuracy: 0.6973 - val_loss: 0.8181 - val_accuracy: 0.6725\n",
            "Epoch 31/60\n",
            "703/703 [==============================] - 3s 5ms/step - loss: 0.7774 - accuracy: 0.7040 - val_loss: 0.8251 - val_accuracy: 0.6840\n",
            "Epoch 32/60\n",
            "703/703 [==============================] - 3s 5ms/step - loss: 0.7756 - accuracy: 0.7054 - val_loss: 0.8030 - val_accuracy: 0.6832\n",
            "Epoch 33/60\n",
            "703/703 [==============================] - 3s 5ms/step - loss: 0.7669 - accuracy: 0.7062 - val_loss: 0.8043 - val_accuracy: 0.6883\n",
            "Epoch 34/60\n",
            "703/703 [==============================] - 3s 5ms/step - loss: 0.7556 - accuracy: 0.7103 - val_loss: 0.8075 - val_accuracy: 0.6915\n",
            "Epoch 35/60\n",
            "703/703 [==============================] - 3s 5ms/step - loss: 0.7453 - accuracy: 0.7188 - val_loss: 0.7776 - val_accuracy: 0.6962\n",
            "Epoch 36/60\n",
            "703/703 [==============================] - 3s 5ms/step - loss: 0.7415 - accuracy: 0.7186 - val_loss: 0.7645 - val_accuracy: 0.7018\n",
            "Epoch 37/60\n",
            "703/703 [==============================] - 3s 5ms/step - loss: 0.7334 - accuracy: 0.7192 - val_loss: 0.8046 - val_accuracy: 0.6848\n",
            "Epoch 38/60\n",
            "703/703 [==============================] - 3s 5ms/step - loss: 0.7203 - accuracy: 0.7279 - val_loss: 0.7652 - val_accuracy: 0.7046\n",
            "Epoch 39/60\n",
            "703/703 [==============================] - 3s 5ms/step - loss: 0.7131 - accuracy: 0.7290 - val_loss: 0.7613 - val_accuracy: 0.7069\n",
            "Epoch 40/60\n",
            "703/703 [==============================] - 3s 5ms/step - loss: 0.7067 - accuracy: 0.7298 - val_loss: 0.7586 - val_accuracy: 0.7073\n",
            "Epoch 41/60\n",
            "703/703 [==============================] - 3s 5ms/step - loss: 0.6968 - accuracy: 0.7348 - val_loss: 0.7743 - val_accuracy: 0.7026\n",
            "Epoch 42/60\n",
            "703/703 [==============================] - 3s 5ms/step - loss: 0.6925 - accuracy: 0.7358 - val_loss: 0.7691 - val_accuracy: 0.7014\n",
            "Epoch 43/60\n",
            "703/703 [==============================] - 3s 5ms/step - loss: 0.6797 - accuracy: 0.7427 - val_loss: 0.7905 - val_accuracy: 0.6974\n",
            "Epoch 44/60\n",
            "703/703 [==============================] - 3s 5ms/step - loss: 0.6704 - accuracy: 0.7451 - val_loss: 0.7614 - val_accuracy: 0.7038\n",
            "Epoch 45/60\n",
            "703/703 [==============================] - 3s 5ms/step - loss: 0.6675 - accuracy: 0.7505 - val_loss: 0.7453 - val_accuracy: 0.7121\n",
            "Epoch 46/60\n",
            "703/703 [==============================] - 3s 5ms/step - loss: 0.6634 - accuracy: 0.7507 - val_loss: 0.7681 - val_accuracy: 0.7141\n",
            "Epoch 47/60\n",
            "703/703 [==============================] - 3s 5ms/step - loss: 0.6541 - accuracy: 0.7560 - val_loss: 0.7342 - val_accuracy: 0.7224\n",
            "Epoch 48/60\n",
            "703/703 [==============================] - 3s 5ms/step - loss: 0.6495 - accuracy: 0.7546 - val_loss: 0.7515 - val_accuracy: 0.7176\n",
            "Epoch 49/60\n",
            "703/703 [==============================] - 3s 5ms/step - loss: 0.6427 - accuracy: 0.7570 - val_loss: 0.7746 - val_accuracy: 0.7125\n",
            "Epoch 50/60\n",
            "703/703 [==============================] - 3s 5ms/step - loss: 0.6328 - accuracy: 0.7612 - val_loss: 0.7405 - val_accuracy: 0.7208\n",
            "Epoch 51/60\n",
            "703/703 [==============================] - 3s 5ms/step - loss: 0.6280 - accuracy: 0.7640 - val_loss: 0.7366 - val_accuracy: 0.7172\n",
            "Epoch 52/60\n",
            "703/703 [==============================] - 3s 5ms/step - loss: 0.6205 - accuracy: 0.7664 - val_loss: 0.7218 - val_accuracy: 0.7259\n",
            "Epoch 53/60\n",
            "703/703 [==============================] - 3s 5ms/step - loss: 0.6130 - accuracy: 0.7703 - val_loss: 0.7446 - val_accuracy: 0.7172\n",
            "Epoch 54/60\n",
            "703/703 [==============================] - 3s 5ms/step - loss: 0.6097 - accuracy: 0.7721 - val_loss: 0.7200 - val_accuracy: 0.7307\n",
            "Epoch 55/60\n",
            "703/703 [==============================] - 3s 5ms/step - loss: 0.6026 - accuracy: 0.7768 - val_loss: 0.7190 - val_accuracy: 0.7311\n",
            "Epoch 56/60\n",
            "703/703 [==============================] - 3s 5ms/step - loss: 0.5922 - accuracy: 0.7758 - val_loss: 0.7108 - val_accuracy: 0.7315\n",
            "Epoch 57/60\n",
            "703/703 [==============================] - 3s 5ms/step - loss: 0.5850 - accuracy: 0.7804 - val_loss: 0.7311 - val_accuracy: 0.7228\n",
            "Epoch 58/60\n",
            "703/703 [==============================] - 3s 5ms/step - loss: 0.5795 - accuracy: 0.7822 - val_loss: 0.7402 - val_accuracy: 0.7196\n",
            "Epoch 59/60\n",
            "703/703 [==============================] - 3s 5ms/step - loss: 0.5791 - accuracy: 0.7830 - val_loss: 0.7126 - val_accuracy: 0.7303\n",
            "Epoch 60/60\n",
            "703/703 [==============================] - 3s 5ms/step - loss: 0.5689 - accuracy: 0.7882 - val_loss: 0.7278 - val_accuracy: 0.7267\n"
          ]
        }
      ],
      "source": [
        "# you can use the default hyper-parameters for training,\n",
        "# val accuracy ~72% after 50 epochs\n",
        "\n",
        "model.compile(optimizer=keras.optimizers.Adam(learning_rate=0.0001, weight_decay=1e-6),\n",
        "              loss=tf.keras.losses.SparseCategoricalCrossentropy(from_logits=False),\n",
        "              metrics=['accuracy'])\n",
        "\n",
        "history = model.fit(train_images, train_labels, batch_size=32, epochs=60,\n",
        "                    validation_data=(val_images, val_labels)) # train for 50 epochs, with batch size 32"
      ]
    },
    {
      "cell_type": "code",
      "execution_count": 7,
      "metadata": {
        "colab": {
          "base_uri": "https://localhost:8080/"
        },
        "id": "vOhpP7M24T9_",
        "outputId": "8885d3da-13e6-48c3-b159-0151e9826885"
      },
      "outputs": [
        {
          "name": "stdout",
          "output_type": "stream",
          "text": [
            " 1/20 [>.............................] - ETA: 0s - loss: 0.9785 - accuracy: 0.6562"
          ]
        },
        {
          "name": "stdout",
          "output_type": "stream",
          "text": [
            "20/20 [==============================] - 0s 3ms/step - loss: 0.7278 - accuracy: 0.7263\n"
          ]
        }
      ],
      "source": [
        "results = model.evaluate(val_images, val_labels, batch_size=128)"
      ]
    },
    {
      "cell_type": "code",
      "execution_count": 8,
      "metadata": {
        "id": "sS7lrTZa0ehX"
      },
      "outputs": [],
      "source": [
        "model.save_weights(\"original_weights.h5\")"
      ]
    },
    {
      "cell_type": "code",
      "execution_count": 9,
      "metadata": {},
      "outputs": [
        {
          "name": "stdout",
          "output_type": "stream",
          "text": [
            "Accuracy: 0.726336658000946\n",
            "Sparsity: 0.0\n",
            "Model Score: 0\n",
            "Model score: 0\n"
          ]
        }
      ],
      "source": [
        "def calculate_model_score(model, accuracy):\n",
        "    # Initialize counters for zero weights and total parameters\n",
        "    num_zero_weights = 0\n",
        "    total_parameters = 0\n",
        "\n",
        "    # Iterate through all layers of the model\n",
        "    for layer in model.layers:\n",
        "        # Get the weights of the layer (this includes both weights and biases)\n",
        "        weights = layer.get_weights()\n",
        "        for w in weights:\n",
        "            # Count zeros and total parameters in each array of weights/biases\n",
        "            num_zero_weights += np.sum(w == 0)\n",
        "            total_parameters += np.size(w)\n",
        "\n",
        "    # Calculate sparsity as the ratio of zero weights to total parameters\n",
        "    sparsity = num_zero_weights / total_parameters\n",
        "\n",
        "    # Calculate the score based on the given conditions\n",
        "    if accuracy > 0.6 and sparsity > 0:\n",
        "        score = (accuracy + sparsity) / 2\n",
        "    else:\n",
        "        score = 0\n",
        "\n",
        "    print(f\"Accuracy: {accuracy}\")\n",
        "    print(f\"Sparsity: {sparsity}\")\n",
        "    print(f\"Model Score: {score}\")\n",
        "\n",
        "    return score\n",
        "\n",
        "# Example usage\n",
        "accuracy = results[1]  # The accuracy you mentioned\n",
        "score = calculate_model_score(model, accuracy)\n",
        "print(f\"Model score: {score}\")"
      ]
    },
    {
      "cell_type": "code",
      "execution_count": 37,
      "metadata": {
        "id": "nOUfI7nHv7kr"
      },
      "outputs": [],
      "source": [
        "model.load_weights('original_weights.h5')"
      ]
    },
    {
      "cell_type": "code",
      "execution_count": 38,
      "metadata": {},
      "outputs": [
        {
          "name": "stdout",
          "output_type": "stream",
          "text": [
            "20/20 [==============================] - 0s 3ms/step - loss: 1.7317 - accuracy: 0.2760\n"
          ]
        }
      ],
      "source": [
        "def apply_l1_norm_based_pruning(layer, filter_percentage_threshold):\n",
        "    weights, biases = layer.get_weights()\n",
        "    # Compute L1 norm of each filter\n",
        "    l1_norms = np.sum(np.abs(weights), axis=(0, 1, 2))\n",
        "    # Determine the pruning threshold based on the desired percentage\n",
        "    threshold = np.percentile(l1_norms, filter_percentage_threshold)\n",
        "    # Create a mask where filters with norm below the threshold are zeroed out\n",
        "    filter_mask = l1_norms > threshold\n",
        "    # Apply mask on the filter dimension and broadcast correctly\n",
        "    new_weights = weights * filter_mask[np.newaxis, np.newaxis, np.newaxis, :]\n",
        "    layer.set_weights([new_weights, biases])\n",
        "    \n",
        "def apply_magnitude_based_pruning(weights, sparsity_level):\n",
        "    \"\"\"\n",
        "    Apply magnitude-based pruning to the weights.\n",
        "    \"\"\"\n",
        "    absolute_weights = np.abs(weights)\n",
        "    threshold = np.percentile(absolute_weights, sparsity_level)\n",
        "    weight_mask = absolute_weights > threshold\n",
        "    return weights * weight_mask\n",
        "\n",
        "def apply_combined_pruning(model, filter_percentage_threshold, weight_sparsity_level):\n",
        "    \"\"\"\n",
        "    Apply combined L1-norm based filter pruning and magnitude-based pruning to each layer in the model that has weights.\n",
        "    \"\"\"\n",
        "    for layer in model.layers:\n",
        "        if isinstance(layer, (tf.keras.layers.Conv2D, tf.keras.layers.Dense)):\n",
        "            if isinstance(layer, tf.keras.layers.Conv2D):\n",
        "                # Apply L1-norm based filter pruning only for Conv2D layers\n",
        "                apply_l1_norm_based_pruning(layer, filter_percentage_threshold)\n",
        "            # After optional filter pruning, get the updated weights\n",
        "            weights, biases = layer.get_weights()\n",
        "            # Apply magnitude-based pruning on the weights and biases\n",
        "            pruned_weights = apply_magnitude_based_pruning(weights, weight_sparsity_level)\n",
        "            pruned_biases = apply_magnitude_based_pruning(biases, weight_sparsity_level)\n",
        "            # Set the pruned weights back to the layer\n",
        "            layer.set_weights([pruned_weights, pruned_biases])\n",
        "\n",
        "apply_combined_pruning(model, 0, 70)\n",
        "results = model.evaluate(val_images, val_labels, batch_size=128)"
      ]
    },
    {
      "cell_type": "code",
      "execution_count": 39,
      "metadata": {},
      "outputs": [
        {
          "name": "stdout",
          "output_type": "stream",
          "text": [
            "Accuracy: 0.27603960037231445\n",
            "Sparsity: 0.6999964582844942\n",
            "Model Score: 0\n",
            "Model score: 0\n"
          ]
        }
      ],
      "source": [
        "# check score\n",
        "accuracy = results[1]\n",
        "score = calculate_model_score(model, accuracy)\n",
        "print(f\"Model score: {score}\")"
      ]
    },
    {
      "cell_type": "code",
      "execution_count": null,
      "metadata": {},
      "outputs": [],
      "source": [
        "Draw one graph. In this graph, for each of the following methods, I want to draw a line showing the pareto frontier of acc and sparsity. y axis is acc, x acc is sparsity. (DON'T HAVE TO USE MODEL)\n",
        "\n",
        "Method 1: magnitude based weight pruning\n",
        "20:\n",
        "Accuracy: 0.7124752402305603\n",
        "Sparsity: 0.20000742073725025\n",
        "Model Score: 0.45624133048390525\n",
        "Model score: 0.45624133048390525\n",
        "\n",
        "30:\n",
        "Accuracy: 0.6364356279373169\n",
        "Sparsity: 0.3000035417155058\n",
        "Model Score: 0.46821958482641135\n",
        "Model score: 0.46821958482641135\n",
        "\n",
        "40:\n",
        "Accuracy: 0.550891101360321\n",
        "Sparsity: 0.4000047222873411\n",
        "Model Score: 0\n",
        "Model score: 0\n",
        "\n",
        "50:\n",
        "Accuracy: 0.4534653425216675\n",
        "Sparsity: 0.5000008432655966\n",
        "Model Score: 0\n",
        "Model score: 0\n",
        "\n",
        "60:\n",
        "Accuracy: 0.2982178330421448\n",
        "Sparsity: 0.5999969642438522\n",
        "Model Score: 0\n",
        "Model score: 0\n",
        "\n",
        "70:\n",
        "Accuracy: 0.27603960037231445\n",
        "Sparsity: 0.6999964582844942\n",
        "Model Score: 0\n",
        "Model score: 0"
      ]
    },
    {
      "cell_type": "code",
      "execution_count": 134,
      "metadata": {},
      "outputs": [],
      "source": [
        "# model.load_weights('original_weights.h5')"
      ]
    },
    {
      "cell_type": "code",
      "execution_count": 137,
      "metadata": {},
      "outputs": [
        {
          "name": "stdout",
          "output_type": "stream",
          "text": [
            "20/20 [==============================] - 0s 3ms/step - loss: 0.9694 - accuracy: 0.6131\n"
          ]
        }
      ],
      "source": [
        "# apply_combined_pruning(model, 5, 0)\n",
        "# results = model.evaluate(val_images, val_labels, batch_size=128)"
      ]
    },
    {
      "cell_type": "code",
      "execution_count": 138,
      "metadata": {},
      "outputs": [
        {
          "name": "stdout",
          "output_type": "stream",
          "text": [
            "Accuracy: 0.6130692958831787\n",
            "Sparsity: 0.4425525312303414\n",
            "Model Score: 0.52781091355676\n",
            "Model score: 0.52781091355676\n"
          ]
        }
      ],
      "source": [
        "# # check score\n",
        "# accuracy = results[1]\n",
        "# score = calculate_model_score(model, accuracy)\n",
        "# print(f\"Model score: {score}\")"
      ]
    },
    {
      "cell_type": "code",
      "execution_count": 40,
      "metadata": {},
      "outputs": [
        {
          "name": "stdout",
          "output_type": "stream",
          "text": [
            "Epoch 1/10\n",
            "  5/703 [..............................] - ETA: 10s - loss: 1.8233 - accuracy: 0.2313WARNING:tensorflow:Callback method `on_train_batch_end` is slow compared to the batch time (batch time: 0.0040s vs `on_train_batch_end` time: 0.0106s). Check your callbacks.\n",
            "703/703 [==============================] - 10s 14ms/step - loss: 1.5687 - accuracy: 0.2975 - val_loss: 1.5185 - val_accuracy: 0.3446\n",
            "Epoch 2/10\n",
            "703/703 [==============================] - 10s 14ms/step - loss: 1.4967 - accuracy: 0.3558 - val_loss: 1.4362 - val_accuracy: 0.3865\n",
            "Epoch 3/10\n",
            "703/703 [==============================] - 10s 14ms/step - loss: 1.3844 - accuracy: 0.4325 - val_loss: 1.2784 - val_accuracy: 0.5121\n",
            "Epoch 4/10\n",
            "703/703 [==============================] - 10s 14ms/step - loss: 1.2473 - accuracy: 0.5127 - val_loss: 1.1643 - val_accuracy: 0.5723\n",
            "Epoch 5/10\n",
            "703/703 [==============================] - 10s 14ms/step - loss: 1.1566 - accuracy: 0.5572 - val_loss: 1.1065 - val_accuracy: 0.5925\n",
            "Epoch 6/10\n",
            "703/703 [==============================] - 10s 14ms/step - loss: 1.1071 - accuracy: 0.5796 - val_loss: 1.0689 - val_accuracy: 0.6040\n",
            "Epoch 7/10\n",
            "703/703 [==============================] - 10s 14ms/step - loss: 1.0771 - accuracy: 0.5948 - val_loss: 1.0436 - val_accuracy: 0.6091\n",
            "Epoch 8/10\n",
            "703/703 [==============================] - 10s 14ms/step - loss: 1.0522 - accuracy: 0.6012 - val_loss: 1.0234 - val_accuracy: 0.6166\n",
            "Epoch 9/10\n",
            "703/703 [==============================] - 10s 14ms/step - loss: 1.0358 - accuracy: 0.6081 - val_loss: 1.0106 - val_accuracy: 0.6230\n",
            "Epoch 10/10\n",
            "703/703 [==============================] - 10s 14ms/step - loss: 1.0239 - accuracy: 0.6126 - val_loss: 0.9975 - val_accuracy: 0.6285\n",
            "20/20 [==============================] - 0s 3ms/step - loss: 0.9975 - accuracy: 0.6285\n"
          ]
        }
      ],
      "source": [
        "class FreezePrunedWeightsCallback(tf.keras.callbacks.Callback):\n",
        "    def __init__(self, model):\n",
        "        super(FreezePrunedWeightsCallback, self).__init__()\n",
        "        self.model = model\n",
        "        self.masks = []\n",
        "        self.original_weights = []\n",
        "\n",
        "        for layer in self.model.layers:\n",
        "            if hasattr(layer, 'get_weights') and len(layer.get_weights()) > 0:\n",
        "                weights, biases = layer.get_weights()\n",
        "                mask = np.ones_like(weights)\n",
        "                mask[weights == 0] = 0\n",
        "                self.masks.append(mask)\n",
        "                self.original_weights.append(weights * mask)  # Store the pruned weights\n",
        "            else:\n",
        "                self.masks.append(None)\n",
        "                self.original_weights.append(None)\n",
        "\n",
        "    def on_batch_end(self, batch, logs=None):\n",
        "        for i, layer in enumerate(self.model.layers):\n",
        "            if self.masks[i] is not None:\n",
        "                weights, biases = layer.get_weights()\n",
        "                pruned_weights = self.original_weights[i]\n",
        "                weights = pruned_weights  # Reapply the stored pruned weights\n",
        "                layer.set_weights([weights, biases])\n",
        "\n",
        "# Usage of the updated callback\n",
        "freeze_pruned_weights_callback = FreezePrunedWeightsCallback(model)\n",
        "\n",
        "# Training with callback\n",
        "model.fit(train_images, train_labels, batch_size=32, epochs=10,\n",
        "          validation_data=(val_images, val_labels),\n",
        "          callbacks=[freeze_pruned_weights_callback])\n",
        "\n",
        "# Evaluating the model\n",
        "results = model.evaluate(val_images, val_labels, batch_size=128)\n"
      ]
    },
    {
      "cell_type": "code",
      "execution_count": 41,
      "metadata": {},
      "outputs": [
        {
          "name": "stdout",
          "output_type": "stream",
          "text": [
            "Accuracy: 0.62851482629776\n",
            "Sparsity: 0.6991869233117401\n",
            "Model Score: 0.66385087480475\n",
            "Model score: 0.66385087480475\n"
          ]
        }
      ],
      "source": [
        "# check score\n",
        "accuracy = results[1]\n",
        "score = calculate_model_score(model, accuracy)\n",
        "print(f\"Model score: {score}\")"
      ]
    },
    {
      "cell_type": "code",
      "execution_count": null,
      "metadata": {},
      "outputs": [],
      "source": [
        "Method 2: magnitude based weight pruning with five more epochs of finetuning\n",
        "20:\n",
        "Accuracy: 0.7251484990119934\n",
        "Sparsity: 0.19976456024542402\n",
        "Model Score: 0.4624565296287087\n",
        "Model score: 0.4624565296287087\n",
        "30:\n",
        "Accuracy: 0.7302970290184021\n",
        "Sparsity: 0.29964431057134616\n",
        "Model Score: 0.5149706697948742\n",
        "Model score: 0.5149706697948742\n",
        "40:\n",
        "Accuracy: 0.7188118696212769\n",
        "Sparsity: 0.3995257474284616\n",
        "Model Score: 0.5591688085248692\n",
        "Model score: 0.5591688085248692\n",
        "50:\n",
        "Accuracy: 0.688316822052002\n",
        "Sparsity: 0.4994105573479634\n",
        "Model Score: 0.5938636896999827\n",
        "Model score: 0.5938636896999827\n",
        "60:\n",
        "Accuracy: 0.6419801712036133\n",
        "Sparsity: 0.5992919942050788\n",
        "Model Score: 0.620636082704346\n",
        "Model score: 0.620636082704346\n",
        "70:\n",
        "Accuracy: 0.62851482629776\n",
        "Sparsity: 0.6991869233117401\n",
        "Model Score: 0.66385087480475\n",
        "Model score: 0.66385087480475\n",
        "\n",
        "    "
      ]
    },
    {
      "cell_type": "code",
      "execution_count": 142,
      "metadata": {},
      "outputs": [],
      "source": [
        "model.save_weights(\"ava_1_weights.h5\")"
      ]
    },
    {
      "cell_type": "code",
      "execution_count": 173,
      "metadata": {},
      "outputs": [],
      "source": [
        "model.load_weights(\"ava_1_weights.h5\")"
      ]
    },
    {
      "cell_type": "code",
      "execution_count": 174,
      "metadata": {},
      "outputs": [
        {
          "name": "stdout",
          "output_type": "stream",
          "text": [
            " 1/20 [>.............................] - ETA: 0s - loss: 1.2638 - accuracy: 0.4844"
          ]
        },
        {
          "name": "stdout",
          "output_type": "stream",
          "text": [
            "20/20 [==============================] - 0s 3ms/step - loss: 0.9540 - accuracy: 0.6206\n"
          ]
        }
      ],
      "source": [
        "apply_combined_pruning(model, 0, 49)\n",
        "results = model.evaluate(val_images, val_labels, batch_size=128)\n"
      ]
    },
    {
      "cell_type": "code",
      "execution_count": 175,
      "metadata": {},
      "outputs": [
        {
          "name": "stdout",
          "output_type": "stream",
          "text": [
            "Accuracy: 0.6205940842628479\n",
            "Sparsity: 0.4899980267585039\n",
            "Model Score: 0.5552960555106758\n",
            "Model score: 0.5552960555106758\n"
          ]
        }
      ],
      "source": [
        "# check score\n",
        "accuracy = results[1]\n",
        "score = calculate_model_score(model, accuracy)\n",
        "print(f\"Model score: {score}\")"
      ]
    },
    {
      "cell_type": "code",
      "execution_count": 176,
      "metadata": {},
      "outputs": [
        {
          "name": "stdout",
          "output_type": "stream",
          "text": [
            "20/20 [==============================] - 0s 3ms/step - loss: 1.0245 - accuracy: 0.6111\n"
          ]
        }
      ],
      "source": [
        "apply_combined_pruning(model, 7, 0)\n",
        "results = model.evaluate(val_images, val_labels, batch_size=128)"
      ]
    },
    {
      "cell_type": "code",
      "execution_count": 177,
      "metadata": {},
      "outputs": [
        {
          "name": "stdout",
          "output_type": "stream",
          "text": [
            "Accuracy: 0.6110891103744507\n",
            "Sparsity: 0.4909913936313209\n",
            "Model Score: 0.5510402520028858\n",
            "Model score: 0.5510402520028858\n"
          ]
        }
      ],
      "source": [
        "# check score\n",
        "accuracy = results[1]\n",
        "score = calculate_model_score(model, accuracy)\n",
        "print(f\"Model score: {score}\")"
      ]
    },
    {
      "cell_type": "code",
      "execution_count": 178,
      "metadata": {},
      "outputs": [
        {
          "name": "stdout",
          "output_type": "stream",
          "text": [
            "Epoch 1/5\n",
            "  5/703 [..............................] - ETA: 9s - loss: 0.8699 - accuracy: 0.6500 WARNING:tensorflow:Callback method `on_train_batch_end` is slow compared to the batch time (batch time: 0.0038s vs `on_train_batch_end` time: 0.0090s). Check your callbacks.\n",
            "703/703 [==============================] - 9s 13ms/step - loss: 0.6888 - accuracy: 0.7399 - val_loss: 0.7703 - val_accuracy: 0.7061\n",
            "Epoch 2/5\n",
            "703/703 [==============================] - 9s 13ms/step - loss: 0.6787 - accuracy: 0.7435 - val_loss: 0.7656 - val_accuracy: 0.7077\n",
            "Epoch 3/5\n",
            "703/703 [==============================] - 9s 13ms/step - loss: 0.6821 - accuracy: 0.7437 - val_loss: 0.7657 - val_accuracy: 0.7081\n",
            "Epoch 4/5\n",
            "703/703 [==============================] - 9s 13ms/step - loss: 0.6776 - accuracy: 0.7471 - val_loss: 0.7604 - val_accuracy: 0.7093\n",
            "Epoch 5/5\n",
            "703/703 [==============================] - 9s 13ms/step - loss: 0.6712 - accuracy: 0.7467 - val_loss: 0.7608 - val_accuracy: 0.7137\n",
            "20/20 [==============================] - 0s 2ms/step - loss: 0.7608 - accuracy: 0.7137\n"
          ]
        }
      ],
      "source": [
        "# Training with callback\n",
        "model.fit(train_images, train_labels, batch_size=32, epochs=5,\n",
        "          validation_data=(val_images, val_labels),\n",
        "          callbacks=[freeze_pruned_weights_callback])\n",
        "\n",
        "# Evaluating the model\n",
        "results = model.evaluate(val_images, val_labels, batch_size=128)"
      ]
    },
    {
      "cell_type": "code",
      "execution_count": 179,
      "metadata": {},
      "outputs": [
        {
          "name": "stdout",
          "output_type": "stream",
          "text": [
            "Accuracy: 0.7136633396148682\n",
            "Sparsity: 0.4420516314659498\n",
            "Model Score: 0.5778574855404089\n",
            "Model score: 0.5778574855404089\n"
          ]
        }
      ],
      "source": [
        "# check score\n",
        "accuracy = results[1]\n",
        "score = calculate_model_score(model, accuracy)\n",
        "print(f\"Model score: {score}\")"
      ]
    },
    {
      "cell_type": "code",
      "execution_count": null,
      "metadata": {},
      "outputs": [],
      "source": []
    },
    {
      "cell_type": "code",
      "execution_count": 182,
      "metadata": {},
      "outputs": [
        {
          "name": "stdout",
          "output_type": "stream",
          "text": [
            "20/20 [==============================] - 0s 3ms/step - loss: 0.7084 - accuracy: 0.7461\n"
          ]
        }
      ],
      "source": [
        "# model.load_weights(\"my_model_weights_glenn.h5\")\n",
        "# results = model.evaluate(val_images, val_labels, batch_size=128)"
      ]
    },
    {
      "cell_type": "code",
      "execution_count": 183,
      "metadata": {},
      "outputs": [
        {
          "name": "stdout",
          "output_type": "stream",
          "text": [
            "Accuracy: 0.7461386322975159\n",
            "Sparsity: 0.6957008633353178\n",
            "Model Score: 0.7209197478164169\n",
            "Model score: 0.7209197478164169\n"
          ]
        }
      ],
      "source": [
        "# # check score\n",
        "# accuracy = results[1]\n",
        "# score = calculate_model_score(model, accuracy)\n",
        "# print(f\"Model score: {score}\")"
      ]
    },
    {
      "cell_type": "code",
      "execution_count": 1,
      "metadata": {},
      "outputs": [
        {
          "name": "stdout",
          "output_type": "stream",
          "text": [
            "The threshold for pruning 10% of weights is: 0.10879103297130306\n"
          ]
        }
      ],
      "source": [
        "import numpy as np\n",
        "\n",
        "# Example weights tensor (random data for illustration)\n",
        "weights = np.random.randn(3, 3, 1, 64)  # A common shape for conv layer weights\n",
        "\n",
        "# Calculate absolute values\n",
        "absolute_weights = np.abs(weights)\n",
        "\n",
        "# Determine the 10th percentile\n",
        "sparsity_level = 10  # We want to prune the lowest 10% of weights by magnitude\n",
        "threshold = np.percentile(absolute_weights, sparsity_level)\n",
        "\n",
        "# Show the threshold\n",
        "print(f\"The threshold for pruning 10% of weights is: {threshold}\")\n"
      ]
    },
    {
      "cell_type": "code",
      "execution_count": null,
      "metadata": {},
      "outputs": [],
      "source": []
    }
  ],
  "metadata": {
    "accelerator": "GPU",
    "colab": {
      "provenance": []
    },
    "kernelspec": {
      "display_name": "Python 3",
      "language": "python",
      "name": "python3"
    },
    "language_info": {
      "codemirror_mode": {
        "name": "ipython",
        "version": 3
      },
      "file_extension": ".py",
      "mimetype": "text/x-python",
      "name": "python",
      "nbconvert_exporter": "python",
      "pygments_lexer": "ipython3",
      "version": "3.10.14"
    }
  },
  "nbformat": 4,
  "nbformat_minor": 0
}
