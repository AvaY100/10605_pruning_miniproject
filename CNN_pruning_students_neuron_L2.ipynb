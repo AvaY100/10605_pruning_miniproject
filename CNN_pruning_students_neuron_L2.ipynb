{
  "nbformat": 4,
  "nbformat_minor": 0,
  "metadata": {
    "kernelspec": {
      "display_name": "Python 3",
      "name": "python3"
    },
    "language_info": {
      "codemirror_mode": {
        "name": "ipython",
        "version": 3
      },
      "file_extension": ".py",
      "mimetype": "text/x-python",
      "name": "python",
      "nbconvert_exporter": "python",
      "pygments_lexer": "ipython3",
      "version": "3.7.6"
    },
    "colab": {
      "provenance": []
    }
  },
  "cells": [
    {
      "cell_type": "markdown",
      "metadata": {
        "id": "y-eC-sb34T9w"
      },
      "source": [
        "## Accelerate Inference: Neural Network Pruning"
      ]
    },
    {
      "cell_type": "code",
      "source": [
        "!python --version"
      ],
      "metadata": {
        "colab": {
          "base_uri": "https://localhost:8080/"
        },
        "id": "UjEzTJdW6JnA",
        "outputId": "6d99fe68-7143-4a12-d31f-9631f4b93bf9"
      },
      "execution_count": 44,
      "outputs": [
        {
          "output_type": "stream",
          "name": "stdout",
          "text": [
            "Python 3.7.17\n"
          ]
        }
      ]
    },
    {
      "cell_type": "code",
      "metadata": {
        "id": "L47XBZWm4T9x",
        "colab": {
          "base_uri": "https://localhost:8080/"
        },
        "outputId": "603f572d-be09-4357-b339-dcd2870922f4"
      },
      "source": [
        "import os\n",
        "import numpy as np\n",
        "import cv2\n",
        "import matplotlib.pyplot as plt\n",
        "import pickle\n",
        "\n",
        "import tensorflow as tf\n",
        "from tensorflow import keras\n",
        "from tensorflow.keras import datasets, layers, models, regularizers\n",
        "from tensorflow.keras.layers import *\n",
        "\n",
        "print(tf.version.VERSION)"
      ],
      "execution_count": 1,
      "outputs": [
        {
          "output_type": "stream",
          "name": "stdout",
          "text": [
            "2.15.0\n"
          ]
        }
      ]
    },
    {
      "cell_type": "code",
      "metadata": {
        "id": "V1FQTVeAuNiU"
      },
      "source": [
        "# untar\n",
        "# !ls\n",
        "# !tar -xvzf dataset.tar.gz\n",
        "# load train\n",
        "train_images = pickle.load(open('train_images.pkl', 'rb'))\n",
        "train_labels = pickle.load(open('train_labels.pkl', 'rb'))\n",
        "# load val\n",
        "val_images = pickle.load(open('val_images.pkl', 'rb'))\n",
        "val_labels = pickle.load(open('val_labels.pkl', 'rb'))"
      ],
      "execution_count": 7,
      "outputs": []
    },
    {
      "cell_type": "code",
      "metadata": {
        "id": "KE9JuZDG4T94"
      },
      "source": [
        "# Define the neural network architecture (don't change this)\n",
        "\n",
        "model = models.Sequential()\n",
        "model.add(Conv2D(32, (3, 3), padding='same', kernel_regularizer=regularizers.l2(1e-5), input_shape=(25,25,3)))\n",
        "model.add(Activation('relu'))\n",
        "model.add(Conv2D(32, (3, 3), kernel_regularizer=regularizers.l2(1e-5)))\n",
        "model.add(Activation('relu'))\n",
        "model.add(MaxPooling2D(pool_size=(2, 2)))\n",
        "model.add(Dropout(0.25))\n",
        "model.add(Conv2D(64, (3, 3), padding='same', kernel_regularizer=regularizers.l2(1e-5)))\n",
        "model.add(Activation('relu'))\n",
        "model.add(Conv2D(64, (3, 3), kernel_regularizer=regularizers.l2(1e-5)))\n",
        "model.add(Activation('relu'))\n",
        "model.add(MaxPooling2D(pool_size=(2, 2)))\n",
        "model.add(Dropout(0.25))\n",
        "model.add(Flatten())\n",
        "model.add(Dense(512))\n",
        "model.add(Activation('relu'))\n",
        "model.add(Dropout(0.5))\n",
        "model.add(Dense(5))\n",
        "model.add(Activation('softmax'))"
      ],
      "execution_count": 108,
      "outputs": []
    },
    {
      "cell_type": "code",
      "metadata": {
        "id": "JTzcSoYl4T97",
        "colab": {
          "base_uri": "https://localhost:8080/"
        },
        "outputId": "d4b99eb3-b3eb-4844-92c7-e93f39987660"
      },
      "source": [
        "print(model.summary())"
      ],
      "execution_count": null,
      "outputs": [
        {
          "output_type": "stream",
          "name": "stdout",
          "text": [
            "Model: \"sequential\"\n",
            "_________________________________________________________________\n",
            " Layer (type)                Output Shape              Param #   \n",
            "=================================================================\n",
            " conv2d (Conv2D)             (None, 25, 25, 32)        896       \n",
            "                                                                 \n",
            " activation (Activation)     (None, 25, 25, 32)        0         \n",
            "                                                                 \n",
            " conv2d_1 (Conv2D)           (None, 23, 23, 32)        9248      \n",
            "                                                                 \n",
            " activation_1 (Activation)   (None, 23, 23, 32)        0         \n",
            "                                                                 \n",
            " max_pooling2d (MaxPooling2  (None, 11, 11, 32)        0         \n",
            " D)                                                              \n",
            "                                                                 \n",
            " dropout (Dropout)           (None, 11, 11, 32)        0         \n",
            "                                                                 \n",
            " conv2d_2 (Conv2D)           (None, 11, 11, 64)        18496     \n",
            "                                                                 \n",
            " activation_2 (Activation)   (None, 11, 11, 64)        0         \n",
            "                                                                 \n",
            " conv2d_3 (Conv2D)           (None, 9, 9, 64)          36928     \n",
            "                                                                 \n",
            " activation_3 (Activation)   (None, 9, 9, 64)          0         \n",
            "                                                                 \n",
            " max_pooling2d_1 (MaxPoolin  (None, 4, 4, 64)          0         \n",
            " g2D)                                                            \n",
            "                                                                 \n",
            " dropout_1 (Dropout)         (None, 4, 4, 64)          0         \n",
            "                                                                 \n",
            " flatten (Flatten)           (None, 1024)              0         \n",
            "                                                                 \n",
            " dense (Dense)               (None, 512)               524800    \n",
            "                                                                 \n",
            " activation_4 (Activation)   (None, 512)               0         \n",
            "                                                                 \n",
            " dropout_2 (Dropout)         (None, 512)               0         \n",
            "                                                                 \n",
            " dense_1 (Dense)             (None, 5)                 2565      \n",
            "                                                                 \n",
            " activation_5 (Activation)   (None, 5)                 0         \n",
            "                                                                 \n",
            "=================================================================\n",
            "Total params: 592933 (2.26 MB)\n",
            "Trainable params: 592933 (2.26 MB)\n",
            "Non-trainable params: 0 (0.00 Byte)\n",
            "_________________________________________________________________\n",
            "None\n"
          ]
        }
      ]
    },
    {
      "cell_type": "code",
      "metadata": {
        "id": "G9Nk_MAPqZPt",
        "colab": {
          "base_uri": "https://localhost:8080/"
        },
        "outputId": "a2bce352-8225-4027-a1d1-509f47968f3f"
      },
      "source": [
        "# you can use the default hyper-parameters for training,\n",
        "# val accuracy ~72% after 50 epochs\n",
        "\n",
        "model.compile(optimizer=keras.optimizers.Adam(learning_rate=0.0001, weight_decay=1e-6),\n",
        "              loss=tf.keras.losses.SparseCategoricalCrossentropy(from_logits=False),\n",
        "              metrics=['accuracy'])\n",
        "\n",
        "history = model.fit(train_images, train_labels, batch_size=32, epochs=50,\n",
        "                    validation_data=(val_images, val_labels)) # train for 50 epochs, with batch size 32"
      ],
      "execution_count": null,
      "outputs": [
        {
          "output_type": "stream",
          "name": "stdout",
          "text": [
            "Epoch 1/50\n",
            "703/703 [==============================] - 13s 8ms/step - loss: 1.5175 - accuracy: 0.3058 - val_loss: 1.3404 - val_accuracy: 0.4289\n",
            "Epoch 2/50\n",
            "703/703 [==============================] - 4s 6ms/step - loss: 1.3376 - accuracy: 0.4274 - val_loss: 1.2781 - val_accuracy: 0.4622\n",
            "Epoch 3/50\n",
            "703/703 [==============================] - 5s 7ms/step - loss: 1.2780 - accuracy: 0.4624 - val_loss: 1.2151 - val_accuracy: 0.4855\n",
            "Epoch 4/50\n",
            "703/703 [==============================] - 5s 7ms/step - loss: 1.2284 - accuracy: 0.4885 - val_loss: 1.1716 - val_accuracy: 0.5133\n",
            "Epoch 5/50\n",
            "703/703 [==============================] - 4s 6ms/step - loss: 1.2040 - accuracy: 0.5032 - val_loss: 1.1579 - val_accuracy: 0.5188\n",
            "Epoch 6/50\n",
            "703/703 [==============================] - 5s 7ms/step - loss: 1.1672 - accuracy: 0.5201 - val_loss: 1.1112 - val_accuracy: 0.5497\n",
            "Epoch 7/50\n",
            "703/703 [==============================] - 4s 6ms/step - loss: 1.1423 - accuracy: 0.5341 - val_loss: 1.1118 - val_accuracy: 0.5366\n",
            "Epoch 8/50\n",
            "703/703 [==============================] - 4s 6ms/step - loss: 1.1185 - accuracy: 0.5456 - val_loss: 1.0778 - val_accuracy: 0.5564\n",
            "Epoch 9/50\n",
            "703/703 [==============================] - 5s 7ms/step - loss: 1.0907 - accuracy: 0.5622 - val_loss: 1.0504 - val_accuracy: 0.5711\n",
            "Epoch 10/50\n",
            "703/703 [==============================] - 4s 6ms/step - loss: 1.0709 - accuracy: 0.5695 - val_loss: 1.0607 - val_accuracy: 0.5624\n",
            "Epoch 11/50\n",
            "703/703 [==============================] - 4s 6ms/step - loss: 1.0498 - accuracy: 0.5839 - val_loss: 1.0073 - val_accuracy: 0.5933\n",
            "Epoch 12/50\n",
            "703/703 [==============================] - 5s 8ms/step - loss: 1.0337 - accuracy: 0.5906 - val_loss: 1.0213 - val_accuracy: 0.5810\n",
            "Epoch 13/50\n",
            "703/703 [==============================] - 5s 7ms/step - loss: 1.0099 - accuracy: 0.6019 - val_loss: 0.9938 - val_accuracy: 0.5905\n",
            "Epoch 14/50\n",
            "703/703 [==============================] - 5s 8ms/step - loss: 1.0010 - accuracy: 0.6056 - val_loss: 0.9873 - val_accuracy: 0.5992\n",
            "Epoch 15/50\n",
            "703/703 [==============================] - 5s 6ms/step - loss: 0.9816 - accuracy: 0.6117 - val_loss: 0.9852 - val_accuracy: 0.5984\n",
            "Epoch 16/50\n",
            "703/703 [==============================] - 5s 6ms/step - loss: 0.9734 - accuracy: 0.6194 - val_loss: 0.9493 - val_accuracy: 0.6127\n",
            "Epoch 17/50\n",
            "703/703 [==============================] - 5s 8ms/step - loss: 0.9560 - accuracy: 0.6252 - val_loss: 0.9282 - val_accuracy: 0.6222\n",
            "Epoch 18/50\n",
            "703/703 [==============================] - 5s 6ms/step - loss: 0.9446 - accuracy: 0.6336 - val_loss: 0.9329 - val_accuracy: 0.6242\n",
            "Epoch 19/50\n",
            "703/703 [==============================] - 5s 7ms/step - loss: 0.9318 - accuracy: 0.6394 - val_loss: 0.9256 - val_accuracy: 0.6277\n",
            "Epoch 20/50\n",
            "703/703 [==============================] - 5s 7ms/step - loss: 0.9179 - accuracy: 0.6421 - val_loss: 0.9174 - val_accuracy: 0.6281\n",
            "Epoch 21/50\n",
            "703/703 [==============================] - 5s 7ms/step - loss: 0.9076 - accuracy: 0.6497 - val_loss: 0.9181 - val_accuracy: 0.6253\n",
            "Epoch 22/50\n",
            "703/703 [==============================] - 5s 7ms/step - loss: 0.8907 - accuracy: 0.6549 - val_loss: 0.8855 - val_accuracy: 0.6455\n",
            "Epoch 23/50\n",
            "703/703 [==============================] - 5s 7ms/step - loss: 0.8844 - accuracy: 0.6558 - val_loss: 0.9136 - val_accuracy: 0.6345\n",
            "Epoch 24/50\n",
            "703/703 [==============================] - 5s 7ms/step - loss: 0.8718 - accuracy: 0.6636 - val_loss: 0.8697 - val_accuracy: 0.6535\n",
            "Epoch 25/50\n",
            "703/703 [==============================] - 5s 7ms/step - loss: 0.8636 - accuracy: 0.6640 - val_loss: 0.8670 - val_accuracy: 0.6535\n",
            "Epoch 26/50\n",
            "703/703 [==============================] - 5s 6ms/step - loss: 0.8569 - accuracy: 0.6698 - val_loss: 0.8518 - val_accuracy: 0.6574\n",
            "Epoch 27/50\n",
            "703/703 [==============================] - 5s 8ms/step - loss: 0.8387 - accuracy: 0.6752 - val_loss: 0.8438 - val_accuracy: 0.6638\n",
            "Epoch 28/50\n",
            "703/703 [==============================] - 4s 6ms/step - loss: 0.8305 - accuracy: 0.6818 - val_loss: 0.8440 - val_accuracy: 0.6570\n",
            "Epoch 29/50\n",
            "703/703 [==============================] - 4s 6ms/step - loss: 0.8231 - accuracy: 0.6841 - val_loss: 0.8724 - val_accuracy: 0.6531\n",
            "Epoch 30/50\n",
            "703/703 [==============================] - 5s 7ms/step - loss: 0.8140 - accuracy: 0.6887 - val_loss: 0.8274 - val_accuracy: 0.6737\n",
            "Epoch 31/50\n",
            "703/703 [==============================] - 5s 7ms/step - loss: 0.8060 - accuracy: 0.6899 - val_loss: 0.8222 - val_accuracy: 0.6756\n",
            "Epoch 32/50\n",
            "703/703 [==============================] - 5s 7ms/step - loss: 0.7977 - accuracy: 0.6956 - val_loss: 0.8294 - val_accuracy: 0.6745\n",
            "Epoch 33/50\n",
            "703/703 [==============================] - 4s 6ms/step - loss: 0.7873 - accuracy: 0.6993 - val_loss: 0.8682 - val_accuracy: 0.6618\n",
            "Epoch 34/50\n",
            "703/703 [==============================] - 4s 6ms/step - loss: 0.7787 - accuracy: 0.7046 - val_loss: 0.8057 - val_accuracy: 0.6804\n",
            "Epoch 35/50\n",
            "703/703 [==============================] - 5s 7ms/step - loss: 0.7706 - accuracy: 0.7061 - val_loss: 0.7824 - val_accuracy: 0.6939\n",
            "Epoch 36/50\n",
            "703/703 [==============================] - 5s 6ms/step - loss: 0.7601 - accuracy: 0.7138 - val_loss: 0.7818 - val_accuracy: 0.6899\n",
            "Epoch 37/50\n",
            "703/703 [==============================] - 4s 6ms/step - loss: 0.7526 - accuracy: 0.7160 - val_loss: 0.7761 - val_accuracy: 0.7002\n",
            "Epoch 38/50\n",
            "703/703 [==============================] - 5s 7ms/step - loss: 0.7431 - accuracy: 0.7163 - val_loss: 0.8324 - val_accuracy: 0.6725\n",
            "Epoch 39/50\n",
            "703/703 [==============================] - 5s 7ms/step - loss: 0.7362 - accuracy: 0.7218 - val_loss: 0.7723 - val_accuracy: 0.6994\n",
            "Epoch 40/50\n",
            "703/703 [==============================] - 5s 8ms/step - loss: 0.7208 - accuracy: 0.7289 - val_loss: 0.8060 - val_accuracy: 0.6883\n",
            "Epoch 41/50\n",
            "703/703 [==============================] - 4s 6ms/step - loss: 0.7218 - accuracy: 0.7250 - val_loss: 0.7792 - val_accuracy: 0.6958\n",
            "Epoch 42/50\n",
            "703/703 [==============================] - 4s 6ms/step - loss: 0.7147 - accuracy: 0.7278 - val_loss: 0.7661 - val_accuracy: 0.7042\n",
            "Epoch 43/50\n",
            "703/703 [==============================] - 5s 7ms/step - loss: 0.7034 - accuracy: 0.7389 - val_loss: 0.7626 - val_accuracy: 0.7073\n",
            "Epoch 44/50\n",
            "703/703 [==============================] - 5s 7ms/step - loss: 0.6973 - accuracy: 0.7369 - val_loss: 0.7555 - val_accuracy: 0.7069\n",
            "Epoch 45/50\n",
            "703/703 [==============================] - 5s 7ms/step - loss: 0.6912 - accuracy: 0.7381 - val_loss: 0.7472 - val_accuracy: 0.7149\n",
            "Epoch 46/50\n",
            "703/703 [==============================] - 5s 7ms/step - loss: 0.6795 - accuracy: 0.7430 - val_loss: 0.7677 - val_accuracy: 0.7046\n",
            "Epoch 47/50\n",
            "703/703 [==============================] - 4s 6ms/step - loss: 0.6755 - accuracy: 0.7437 - val_loss: 0.7717 - val_accuracy: 0.7061\n",
            "Epoch 48/50\n",
            "703/703 [==============================] - 5s 7ms/step - loss: 0.6596 - accuracy: 0.7500 - val_loss: 0.7330 - val_accuracy: 0.7180\n",
            "Epoch 49/50\n",
            "703/703 [==============================] - 4s 6ms/step - loss: 0.6648 - accuracy: 0.7471 - val_loss: 0.7597 - val_accuracy: 0.7026\n",
            "Epoch 50/50\n",
            "703/703 [==============================] - 4s 6ms/step - loss: 0.6610 - accuracy: 0.7479 - val_loss: 0.7438 - val_accuracy: 0.7204\n"
          ]
        }
      ]
    },
    {
      "cell_type": "code",
      "metadata": {
        "id": "vOhpP7M24T9_",
        "colab": {
          "base_uri": "https://localhost:8080/"
        },
        "outputId": "92a297c4-3a1d-49f0-ebd0-af46bb251b40"
      },
      "source": [
        "results = model.evaluate(val_images, val_labels, batch_size=128)"
      ],
      "execution_count": null,
      "outputs": [
        {
          "output_type": "stream",
          "name": "stdout",
          "text": [
            "20/20 [==============================] - 0s 13ms/step - loss: 0.7438 - accuracy: 0.7204\n"
          ]
        }
      ]
    },
    {
      "cell_type": "code",
      "source": [
        "model.save_weights('original_weights.h5')"
      ],
      "metadata": {
        "id": "9w87sEyicLpT"
      },
      "execution_count": null,
      "outputs": []
    },
    {
      "cell_type": "code",
      "source": [],
      "metadata": {
        "id": "hl2iZb14XnY2"
      },
      "execution_count": null,
      "outputs": []
    },
    {
      "cell_type": "code",
      "source": [
        "def structured_pruning(layer, pruning_percent):\n",
        "  \"\"\" For Conv2D layer \"\"\"\n",
        "  filters, biases = layer.get_weights()\n",
        "\n",
        "  filters_reshaped = filters.reshape((-1, filters.shape[-1]))\n",
        "  norms = np.linalg.norm(filters_reshaped, axis=0)\n",
        "\n",
        "  threshold = np.percentile(norms, pruning_percent)\n",
        "\n",
        "  mask = norms < threshold\n",
        "  # print(mask)\n",
        "  filters[:,:,:,mask == True] = 0\n",
        "  # print(biases)\n",
        "  biases[mask == True] = 0\n",
        "  # print(biases)\n",
        "\n",
        "  layer.set_weights([filters, biases])\n",
        "  return layer"
      ],
      "metadata": {
        "id": "L93Pe2lY82pP"
      },
      "execution_count": 160,
      "outputs": []
    },
    {
      "cell_type": "code",
      "source": [
        "def neuron_pruning(layer, pruning_percent):\n",
        "  \"\"\" For Dense layer (FC layer) \"\"\"\n",
        "  weights, biases =layer.get_weights()\n",
        "\n",
        "  norms = np.linalg.norm(weights, axis=0)\n",
        "  threshold = np.percentile(norms, pruning_percent)\n",
        "\n",
        "  mask = norms < threshold\n",
        "  weights[:, mask == True] = 0\n",
        "\n",
        "  layer.set_weights([weights, biases])\n",
        "  return layer"
      ],
      "metadata": {
        "id": "sw_xvjXWFBZu"
      },
      "execution_count": 165,
      "outputs": []
    },
    {
      "cell_type": "code",
      "source": [
        "def prune_CNN(model, conv_percent, dense_percent):\n",
        "  for i, layer in enumerate(model.layers):\n",
        "    if isinstance(layer, Conv2D):\n",
        "      model.layers[i] = structured_pruning(layer, conv_percent)\n",
        "    elif isinstance(layer, Dense):\n",
        "      model.layers[i] = neuron_pruning(layer, dense_percent)\n",
        "  return model"
      ],
      "metadata": {
        "id": "no1ZyFNAFDML"
      },
      "execution_count": 162,
      "outputs": []
    },
    {
      "cell_type": "code",
      "source": [
        "def zero_weight_ratio(model):\n",
        "    zero_weights_count = 0\n",
        "    total_weights_count = 0\n",
        "    for layer in model.layers:\n",
        "        if isinstance(layer, Conv2D) or isinstance(layer, Dense):\n",
        "            weights, _ = layer.get_weights()\n",
        "            zero_weights_count += tf.reduce_sum(tf.cast(tf.equal(weights, 0), tf.int32)).numpy()\n",
        "            total_weights_count += tf.size(weights).numpy()\n",
        "    return zero_weights_count / total_weights_count"
      ],
      "metadata": {
        "id": "1JuaizU5UbTe"
      },
      "execution_count": 193,
      "outputs": []
    },
    {
      "cell_type": "code",
      "source": [
        "def calculate_model_score(model):\n",
        "    accuracy = model.evaluate(val_images, val_labels, batch_size=128)[1]\n",
        "    sparsity = zero_weight_ratio(model)\n",
        "\n",
        "    if accuracy > 0.6 and sparsity > 0:\n",
        "        score = (accuracy + sparsity) / 2\n",
        "    else:\n",
        "        score = 0\n",
        "\n",
        "    print(f\"Accuracy: {accuracy}\")\n",
        "    print(f\"Sparsity: {sparsity}\")\n",
        "    print(f\"Model Score: {score}\")\n",
        "\n",
        "    return score"
      ],
      "metadata": {
        "id": "c63qkK3LIXKt"
      },
      "execution_count": 198,
      "outputs": []
    },
    {
      "cell_type": "code",
      "source": [
        "# grid search\n",
        "scores = []\n",
        "configs = []\n",
        "for conv_percent in [0, 1, 2, 3, 4]:\n",
        "  for dense_percent in [10, 15, 20, 25, 30]:\n",
        "    model.load_weights('original_weights.h5')\n",
        "    model.compile(optimizer=keras.optimizers.Adam(learning_rate=0.0001, weight_decay=1e-6),\n",
        "                  loss=tf.keras.losses.SparseCategoricalCrossentropy(from_logits=False),\n",
        "                  metrics=['accuracy'])\n",
        "    model = prune_CNN(model, conv_percent, dense_percent)\n",
        "    print(f' -- conv {conv_percent}% dense {dense_percent}% -- ')\n",
        "    score = calculate_model_score(model)\n",
        "    scores.append(score)\n",
        "    configs.append((conv_percent, dense_percent))\n",
        "print(max(scores))\n",
        "print(configs[np.argmax(scores)])"
      ],
      "metadata": {
        "colab": {
          "base_uri": "https://localhost:8080/"
        },
        "id": "v7zVU-hx82rs",
        "outputId": "82fa0ffb-2118-4b08-f660-70b31ee721c2"
      },
      "execution_count": 200,
      "outputs": [
        {
          "output_type": "stream",
          "name": "stdout",
          "text": [
            " -- conv 0% dense 10% -- \n",
            "20/20 [==============================] - 2s 64ms/step - loss: 0.8993 - accuracy: 0.6463\n",
            "Accuracy: 0.6463366150856018\n",
            "Sparsity: 0.0907764629599611\n",
            "Model Score: 0.36855653902278146\n",
            " -- conv 0% dense 15% -- \n",
            "20/20 [==============================] - 2s 66ms/step - loss: 0.8990 - accuracy: 0.6440\n",
            "Accuracy: 0.6439604163169861\n",
            "Sparsity: 0.13400335008375208\n",
            "Model Score: 0.3889818832003691\n",
            " -- conv 0% dense 20% -- \n",
            "20/20 [==============================] - 2s 64ms/step - loss: 0.8962 - accuracy: 0.6436\n",
            "Accuracy: 0.6435643434524536\n",
            "Sparsity: 0.17895931269249474\n",
            "Model Score: 0.4112618280724742\n",
            " -- conv 0% dense 25% -- \n",
            "20/20 [==============================] - 3s 116ms/step - loss: 0.8942 - accuracy: 0.6424\n",
            "Accuracy: 0.6423762440681458\n",
            "Sparsity: 0.22218619981628573\n",
            "Model Score: 0.43228122194221574\n",
            " -- conv 0% dense 30% -- \n",
            "20/20 [==============================] - 2s 66ms/step - loss: 1.0462 - accuracy: 0.5232\n",
            "Accuracy: 0.5231683254241943\n",
            "Sparsity: 0.26800670016750416\n",
            "Model Score: 0\n",
            " -- conv 1% dense 10% -- \n",
            "20/20 [==============================] - 2s 98ms/step - loss: 0.9500 - accuracy: 0.6321\n",
            "Accuracy: 0.6320791840553284\n",
            "Sparsity: 0.09179465877775976\n",
            "Model Score: 0.36193692141654404\n",
            " -- conv 1% dense 15% -- \n",
            "20/20 [==============================] - 2s 74ms/step - loss: 0.9455 - accuracy: 0.6301\n",
            "Accuracy: 0.6300989985466003\n",
            "Sparsity: 0.13502154590155077\n",
            "Model Score: 0.38256027222407557\n",
            " -- conv 1% dense 20% -- \n",
            "20/20 [==============================] - 3s 144ms/step - loss: 0.9387 - accuracy: 0.6337\n",
            "Accuracy: 0.6336633563041687\n",
            "Sparsity: 0.1799775085102934\n",
            "Model Score: 0.40682043240723104\n",
            " -- conv 1% dense 25% -- \n",
            "20/20 [==============================] - 2s 88ms/step - loss: 0.9314 - accuracy: 0.6341\n",
            "Accuracy: 0.6340594291687012\n",
            "Sparsity: 0.2232043956340844\n",
            "Model Score: 0.42863191240139276\n",
            " -- conv 1% dense 30% -- \n",
            "20/20 [==============================] - 2s 66ms/step - loss: 1.0678 - accuracy: 0.5176\n",
            "Accuracy: 0.517623782157898\n",
            "Sparsity: 0.2690248959853029\n",
            "Model Score: 0\n",
            " -- conv 2% dense 10% -- \n",
            "20/20 [==============================] - 2s 67ms/step - loss: 1.0364 - accuracy: 0.6071\n",
            "Accuracy: 0.6071287393569946\n",
            "Sparsity: 0.09422617117847301\n",
            "Model Score: 0.3506774552677338\n",
            " -- conv 2% dense 15% -- \n",
            "20/20 [==============================] - 3s 109ms/step - loss: 1.0273 - accuracy: 0.6048\n",
            "Accuracy: 0.6047524809837341\n",
            "Sparsity: 0.137453058302264\n",
            "Model Score: 0.37110276964299904\n",
            " -- conv 2% dense 20% -- \n",
            "20/20 [==============================] - 2s 67ms/step - loss: 1.0111 - accuracy: 0.6075\n",
            "Accuracy: 0.6075247526168823\n",
            "Sparsity: 0.18240902091100664\n",
            "Model Score: 0.3949668867639445\n",
            " -- conv 2% dense 25% -- \n",
            "20/20 [==============================] - 2s 67ms/step - loss: 0.9929 - accuracy: 0.6103\n",
            "Accuracy: 0.6102970242500305\n",
            "Sparsity: 0.22563590803479763\n",
            "Model Score: 0.41796646614241406\n",
            " -- conv 2% dense 30% -- \n",
            "20/20 [==============================] - 2s 66ms/step - loss: 1.1239 - accuracy: 0.4947\n",
            "Accuracy: 0.49465346336364746\n",
            "Sparsity: 0.2714564083860161\n",
            "Model Score: 0\n",
            " -- conv 3% dense 10% -- \n",
            "20/20 [==============================] - 2s 88ms/step - loss: 1.0364 - accuracy: 0.6071\n",
            "Accuracy: 0.6071287393569946\n",
            "Sparsity: 0.09422617117847301\n",
            "Model Score: 0.3506774552677338\n",
            " -- conv 3% dense 15% -- \n",
            "20/20 [==============================] - 3s 133ms/step - loss: 1.0273 - accuracy: 0.6048\n",
            "Accuracy: 0.6047524809837341\n",
            "Sparsity: 0.137453058302264\n",
            "Model Score: 0.37110276964299904\n",
            " -- conv 3% dense 20% -- \n",
            "20/20 [==============================] - 2s 67ms/step - loss: 1.0111 - accuracy: 0.6075\n",
            "Accuracy: 0.6075247526168823\n",
            "Sparsity: 0.18240902091100664\n",
            "Model Score: 0.3949668867639445\n",
            " -- conv 3% dense 25% -- \n",
            "20/20 [==============================] - 2s 65ms/step - loss: 0.9929 - accuracy: 0.6103\n",
            "Accuracy: 0.6102970242500305\n",
            "Sparsity: 0.22563590803479763\n",
            "Model Score: 0.41796646614241406\n",
            " -- conv 3% dense 30% -- \n",
            "20/20 [==============================] - 2s 64ms/step - loss: 1.1239 - accuracy: 0.4947\n",
            "Accuracy: 0.49465346336364746\n",
            "Sparsity: 0.2714564083860161\n",
            "Model Score: 0\n",
            " -- conv 4% dense 10% -- \n",
            "20/20 [==============================] - 2s 97ms/step - loss: 1.1994 - accuracy: 0.5632\n",
            "Accuracy: 0.5631682872772217\n",
            "Sparsity: 0.09621697195655698\n",
            "Model Score: 0\n",
            " -- conv 4% dense 15% -- \n",
            "20/20 [==============================] - 2s 97ms/step - loss: 1.1883 - accuracy: 0.5624\n",
            "Accuracy: 0.5623762607574463\n",
            "Sparsity: 0.13944385908034798\n",
            "Model Score: 0\n",
            " -- conv 4% dense 20% -- \n",
            "20/20 [==============================] - 2s 66ms/step - loss: 1.1650 - accuracy: 0.5604\n",
            "Accuracy: 0.5603960156440735\n",
            "Sparsity: 0.1843998216890906\n",
            "Model Score: 0\n",
            " -- conv 4% dense 25% -- \n",
            "20/20 [==============================] - 2s 64ms/step - loss: 1.1338 - accuracy: 0.5659\n",
            "Accuracy: 0.5659406185150146\n",
            "Sparsity: 0.2276267088128816\n",
            "Model Score: 0\n",
            " -- conv 4% dense 30% -- \n",
            "20/20 [==============================] - 2s 64ms/step - loss: 1.2431 - accuracy: 0.4594\n",
            "Accuracy: 0.45940592885017395\n",
            "Sparsity: 0.2734472091641001\n",
            "Model Score: 0\n",
            "0.43228122194221574\n",
            "(0, 25)\n"
          ]
        }
      ]
    },
    {
      "cell_type": "code",
      "source": [
        "# best config: conv_percent=0%, dense_percent=20%\n",
        "model.load_weights('original_weights.h5')\n",
        "model.compile(optimizer=keras.optimizers.Adam(learning_rate=0.0001, weight_decay=1e-6),\n",
        "              loss=tf.keras.losses.SparseCategoricalCrossentropy(from_logits=False),\n",
        "              metrics=['accuracy'])\n",
        "model = prune_CNN(model, 0, 25)\n",
        "score = calculate_model_score(model)\n",
        "model.save_weights(\"my_model_weights_neuron_pruning.h5\")"
      ],
      "metadata": {
        "colab": {
          "base_uri": "https://localhost:8080/"
        },
        "id": "araXoC-ADXFl",
        "outputId": "b3277531-813b-4c7d-d702-00e9c85ee3e9"
      },
      "execution_count": 201,
      "outputs": [
        {
          "output_type": "stream",
          "name": "stdout",
          "text": [
            "20/20 [==============================] - 2s 66ms/step - loss: 0.8942 - accuracy: 0.6424\n",
            "Accuracy: 0.6423762440681458\n",
            "Sparsity: 0.22218619981628573\n",
            "Model Score: 0.43228122194221574\n"
          ]
        }
      ]
    },
    {
      "cell_type": "code",
      "source": [],
      "metadata": {
        "id": "x3qtdvmKIY5U"
      },
      "execution_count": null,
      "outputs": []
    },
    {
      "cell_type": "code",
      "source": [],
      "metadata": {
        "id": "6wBdg_f0YI_X"
      },
      "execution_count": null,
      "outputs": []
    },
    {
      "cell_type": "code",
      "metadata": {
        "id": "wMSKQW4k4T-G"
      },
      "source": [
        "# you need to save the model's weights, naming it 'my_model_weights.h5'\n",
        "# model.save_weights(\"my_model_weights.h5\")\n",
        "\n",
        "# running this cell will immediately download a file called 'my_model_weights.h5'\n",
        "from google.colab import files\n",
        "files.download(\"my_model_weights.h5\")"
      ],
      "execution_count": null,
      "outputs": []
    }
  ]
}